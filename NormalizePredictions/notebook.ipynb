{
 "cells": [
  {
   "cell_type": "code",
   "execution_count": 1,
   "metadata": {
    "collapsed": true
   },
   "outputs": [],
   "source": [
    "# Imports\n",
    "import pandas as pd\n",
    "\n",
    "PREDICTIONS_PATH = 'medium_predictions.csv'\n",
    "\n",
    "dataset = pd.read_csv(PREDICTIONS_PATH, sep='\\s*[,]\\s*', header=0, engine=\"python\")\n",
    "\n",
    "rows, cols = dataset.shape\n",
    "\n",
    "normalizedTP = []\n",
    "normalizedFP = []\n",
    "normalizedFN = []\n",
    "\n",
    "for i in range(0, rows):\n",
    "    methodName = len(dataset['Method Name'][i].split('|'))\n",
    "    prediction = len(dataset['Prediction'][i].split('|'))\n",
    "\n",
    "    tp = dataset['True Positive'][i]\n",
    "    fp = dataset['False Positive'][i]\n",
    "    fn = dataset['False Negative'][i]\n",
    "    normalizedTP.append(tp / prediction)\n",
    "    normalizedFP.append(fp / prediction)\n",
    "    normalizedFN.append(fn / methodName)\n"
   ]
  },
  {
   "cell_type": "code",
   "execution_count": 2,
   "outputs": [
    {
     "name": "stdout",
     "output_type": "stream",
     "text": [
      "Results Normalised\n",
      "Precision:  0.435061720951858\n",
      "Recall:  0.31853102918094783\n",
      "F1:  0.3677866001433999\n"
     ]
    }
   ],
   "source": [
    "TP = sum(normalizedTP)\n",
    "FP = sum(normalizedFP)\n",
    "FN = sum(normalizedFN)\n",
    "\n",
    "precision = TP / (TP + FP)\n",
    "recall = TP / (TP + FN)\n",
    "f1 = 2 * precision * recall / (precision + recall)\n",
    "\n",
    "print(\"Results Normalised\")\n",
    "print(\"Precision: \", precision)\n",
    "print(\"Recall: \", recall)\n",
    "print(\"F1: \", f1)\n"
   ],
   "metadata": {
    "collapsed": false,
    "pycharm": {
     "name": "#%%\n"
    }
   }
  }
 ],
 "metadata": {
  "kernelspec": {
   "display_name": "Python 3",
   "language": "python",
   "name": "python3"
  },
  "language_info": {
   "codemirror_mode": {
    "name": "ipython",
    "version": 2
   },
   "file_extension": ".py",
   "mimetype": "text/x-python",
   "name": "python",
   "nbconvert_exporter": "python",
   "pygments_lexer": "ipython2",
   "version": "2.7.6"
  }
 },
 "nbformat": 4,
 "nbformat_minor": 0
}